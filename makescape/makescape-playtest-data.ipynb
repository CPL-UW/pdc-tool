{
 "metadata": {
  "name": "",
  "signature": "sha256:7741e68855b9421df5c1c10db3b5fd5516f5da2bab9571e203908976ee9c4c40"
 },
 "nbformat": 3,
 "nbformat_minor": 0,
 "worksheets": [
  {
   "cells": [
    {
     "cell_type": "code",
     "collapsed": false,
     "input": [
      "import json\n",
      "import matplotlib as mpl\n",
      "from pandas import read_json\n",
      "from ggplot import *\n",
      "\n",
      "path_to_data = \"/Volumes/MakeScapeADAGE/makescape_sample_4_10.json\""
     ],
     "language": "python",
     "metadata": {},
     "outputs": []
    },
    {
     "cell_type": "code",
     "collapsed": false,
     "input": [
      "makescape = read_json(path_to_data)"
     ],
     "language": "python",
     "metadata": {},
     "outputs": []
    },
    {
     "cell_type": "markdown",
     "metadata": {},
     "source": [
      "## Activity by type\n",
      "\n",
      "Let's take a look at the distribution of different types of activity."
     ]
    },
    {
     "cell_type": "code",
     "collapsed": false,
     "input": [
      "p = ggplot(aes(x='key'), \n",
      "           data=makescape) + \\\n",
      "        geom_bar()\n",
      "\n",
      "# axis label rotation hack from https://github.com/yhat/ggplot/issues/156#issue-25135466\n",
      "p.draw()\n",
      "plt.setp( plt.gca().xaxis.get_majorticklabels(), rotation=90 )\n",
      "plt.show()"
     ],
     "language": "python",
     "metadata": {},
     "outputs": []
    },
    {
     "cell_type": "code",
     "collapsed": false,
     "input": [],
     "language": "python",
     "metadata": {},
     "outputs": []
    }
   ],
   "metadata": {}
  }
 ]
}