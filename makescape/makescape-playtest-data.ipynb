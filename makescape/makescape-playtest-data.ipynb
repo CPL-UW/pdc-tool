{
 "metadata": {
  "name": "",
  "signature": "sha256:b867169f2db20358840daaff7926f69fc328b221a46e8138f5755070dccc7f5a"
 },
 "nbformat": 3,
 "nbformat_minor": 0,
 "worksheets": [
  {
   "cells": [
    {
     "cell_type": "code",
     "collapsed": false,
     "input": [
      "import json\n",
      "from pandas import read_json"
     ],
     "language": "python",
     "metadata": {},
     "outputs": [],
     "prompt_number": 1
    },
    {
     "cell_type": "code",
     "collapsed": false,
     "input": [],
     "language": "python",
     "metadata": {},
     "outputs": []
    }
   ],
   "metadata": {}
  }
 ]
}