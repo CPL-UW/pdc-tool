{
 "metadata": {
  "name": "",
  "signature": "sha256:2d828c26077ea65262d3f512cad7da285e2449f46a748160dd177c515393944b"
 },
 "nbformat": 3,
 "nbformat_minor": 0,
 "worksheets": [
  {
   "cells": [
    {
     "cell_type": "code",
     "collapsed": false,
     "input": [
      "import json\n",
      "from pandas import read_json\n",
      "from ggplot import *\n",
      "\n",
      "path_to_data = \"/Volumes/MakeScapeADAGE/makescape_sample_4_10.json\""
     ],
     "language": "python",
     "metadata": {},
     "outputs": []
    },
    {
     "cell_type": "code",
     "collapsed": false,
     "input": [
      "makescape = read_json(path_to_data)"
     ],
     "language": "python",
     "metadata": {},
     "outputs": []
    },
    {
     "cell_type": "code",
     "collapsed": false,
     "input": [
      "makescape.head()"
     ],
     "language": "python",
     "metadata": {},
     "outputs": []
    },
    {
     "cell_type": "code",
     "collapsed": false,
     "input": [],
     "language": "python",
     "metadata": {},
     "outputs": []
    }
   ],
   "metadata": {}
  }
 ]
}